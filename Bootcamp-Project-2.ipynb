{
 "cells": [
  {
   "cell_type": "code",
   "execution_count": null,
   "metadata": {},
   "outputs": [],
   "source": [
    "#Import Dependencies\n",
    "import pandas as pd\n",
    "import os\n",
    "import requests\n",
    "import json\n",
    "import pprint\n",
    "import matplotlib.pyplot as plt\n",
    "import numpy as np\n",
    "from config import (aqs_api_key)\n",
    "from config import (email_address)\n",
    "# https://aqs.epa.gov/aqsweb/documents/data_api.html#signup for api information\n",
    "pp = pprint.PrettyPrinter(indent = 4)\n",
    "states_url = \"https://aqs.epa.gov/data/api/list/states\"\n",
    "parameters_url = \"https://aqs.epa.gov/data/api/list/classes\"\n",
    "sample_data_url = \"https://aqs.epa.gov/data/api/dailyData/byState\"\n",
    "p1 = {\"email\" : email_address, \"key\" : aqs_api_key}\n",
    "from sqlalchemy import create_engine\n",
    "\n",
    "# States to be used and their ID Codes, All in top 10 for worst congestion and traffic\n",
    "California = \"06\"\n",
    "cali_data = []\n"
   ]
  },
  {
   "cell_type": "code",
   "execution_count": null,
   "metadata": {},
   "outputs": [],
   "source": [
    "# Create a DataFrame for California and pull carbon monoxide data from API\n",
    "cali_params = {\"email\" : email_address, \"key\" : aqs_api_key, \"param\" : \"88101\", \n",
    "          \"bdate\" : \"20200901\", \"edate\" : \"20200923\", \"state\" : California}\n",
    "\n",
    "# Call to url\n",
    "cali_response = requests.get(sample_data_url, params = cali_params).json()\n",
    "cali_data.append(cali_response)\n",
    "cali_response\n",
    "\n",
    "# Round all data in cali_df to 3 demical places\n",
    "cali_df = pd.DataFrame(cali_data[0]['Data']).round(3)\n",
    "cali_df.head()"
   ]
  },
  {
   "cell_type": "code",
   "execution_count": null,
   "metadata": {},
   "outputs": [],
   "source": [
    "# Clean the datafram by dropping unecessary collumns\n",
    "clean_cali_df=cali_df.drop([\"state_code\",\"arithmetic_mean\",\"cbsa\", \"pollutant_standard\", \"county_code\",\"site_number\",\n",
    "                            \"parameter_code\",\"datum\",\"cbsa_code\",\"poc\",\"method_code\",\"local_site_name\",\"event_type\",\n",
    "                            \"validity_indicator\",\"method_code\"], axis=1)\n",
    "clean_cali_df.head()"
   ]
  },
  {
   "cell_type": "code",
   "execution_count": null,
   "metadata": {
    "scrolled": true
   },
   "outputs": [],
   "source": [
    "# Create new column called \"location\" containing the latitude and logitude numbers.\n",
    "clean_cali_df['location'] = clean_cali_df[['latitude', 'longitude']].apply(tuple, axis=1)\n",
    "clean_cali_df"
   ]
  },
  {
   "cell_type": "code",
   "execution_count": null,
   "metadata": {},
   "outputs": [],
   "source": [
    "#list(clean_cali_df.columns)"
   ]
  },
  {
   "cell_type": "code",
   "execution_count": null,
   "metadata": {},
   "outputs": [],
   "source": [
    "# read in the CSV file for the fire locations data\n",
    "csv_file = \"../BootcampProject2/Resources/fire_locations.csv\"\n",
    "fire_data_df = pd.read_csv(csv_file)\n",
    "fire_data_df.head()"
   ]
  },
  {
   "cell_type": "code",
   "execution_count": null,
   "metadata": {
    "scrolled": false
   },
   "outputs": [],
   "source": [
    "# Rename columns and round data to 3 decimal places\n",
    "columns = [\"state\", \"latitude\", \"longitude\", \"date_time\", \"pm25\", \"pm10\", \"co\", \n",
    "                    \"co2\", \"ch4\", \"nox\", \"nh3\", \"so2\", \"voc\"]\n",
    "CA_df = pd.DataFrame(fire_data_df).round(3)\n",
    "CA_df = CA_df.loc[CA_df[\"state\"] == \"CA\", columns]\n",
    "\n",
    "# Create new Column that concatinates both the latitude and longitudinal data\n",
    "CA_df['location'] = CA_df[['latitude', 'longitude']].apply(tuple, axis=1)\n",
    "CA_df"
   ]
  },
  {
   "cell_type": "code",
   "execution_count": null,
   "metadata": {},
   "outputs": [],
   "source": []
  },
  {
   "cell_type": "code",
   "execution_count": null,
   "metadata": {},
   "outputs": [],
   "source": [
    "# Create Postgres Engine\n",
    "engine = create_engine ('postgres://postgres:@localhost:5432/Bootcamp-Project-2')\n",
    "# use own password and localhost id"
   ]
  },
  {
   "cell_type": "code",
   "execution_count": null,
   "metadata": {},
   "outputs": [],
   "source": [
    "# Push both dataframes to Postgres Engine"
   ]
  },
  {
   "cell_type": "code",
   "execution_count": null,
   "metadata": {},
   "outputs": [],
   "source": [
    "CA_df.to_sql ('fire_data', con = engine, index_label = 'fire_id')"
   ]
  },
  {
   "cell_type": "code",
   "execution_count": null,
   "metadata": {},
   "outputs": [],
   "source": [
    "clean_cali_df.to_sql ('air_quality', con =engine)"
   ]
  },
  {
   "cell_type": "code",
   "execution_count": null,
   "metadata": {},
   "outputs": [],
   "source": []
  },
  {
   "cell_type": "code",
   "execution_count": null,
   "metadata": {},
   "outputs": [],
   "source": []
  }
 ],
 "metadata": {
  "kernelspec": {
   "display_name": "Python 3",
   "language": "python",
   "name": "python3"
  },
  "language_info": {
   "codemirror_mode": {
    "name": "ipython",
    "version": 3
   },
   "file_extension": ".py",
   "mimetype": "text/x-python",
   "name": "python",
   "nbconvert_exporter": "python",
   "pygments_lexer": "ipython3",
   "version": "3.7.6"
  }
 },
 "nbformat": 4,
 "nbformat_minor": 2
}
